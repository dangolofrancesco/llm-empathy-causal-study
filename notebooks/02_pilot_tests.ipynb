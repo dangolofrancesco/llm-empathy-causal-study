{
 "cells": [
  {
   "cell_type": "markdown",
   "id": "f0d55914",
   "metadata": {},
   "source": [
    "# Testing and validating your judge prompts "
   ]
  },
  {
   "cell_type": "code",
   "execution_count": 6,
   "id": "da91dcc0",
   "metadata": {},
   "outputs": [],
   "source": [
    "from openai import OpenAI\n",
    "import google.generativeai as genai\n",
    "import os\n",
    "import pandas as pd\n",
    "from dotenv import load_dotenv\n",
    "import time\n",
    "\n",
    "#openai_client = OpenAI(api_key=os.getenv(\"OPENAI_API_KEY\"))\n",
    "\n",
    "genai.configure(api_key=os.getenv(\"GOOGLE_API_KEY\"))\n",
    "google_model = genai.GenerativeModel('gemini-pro-latest')\n"
   ]
  },
  {
   "cell_type": "code",
   "execution_count": 5,
   "id": "cf057778",
   "metadata": {},
   "outputs": [
    {
     "name": "stderr",
     "output_type": "stream",
     "text": [
      "E0000 00:00:1760669426.558903  474653 alts_credentials.cc:93] ALTS creds ignored. Not running on GCP and untrusted ALTS is not enabled.\n"
     ]
    },
    {
     "name": "stdout",
     "output_type": "stream",
     "text": [
      "✅ Google Gemini Success!\n",
      "Hello! I am a large language model, trained by Google.\n",
      "\n",
      "Think of me as a helpful and creative conversational partner and a tool to help you with a wide range of tasks. I can:\n",
      "\n",
      "*   **Answer your questions** on many different topics.\n",
      "*   **Generate text**, from poems and stories to emails and code.\n",
      "*   **Summarize** long articles or documents for you.\n",
      "*   **Translate** languages.\n",
      "*   **Brainstorm ideas** with you.\n",
      "\n",
      "I don't have personal experiences, feelings, or a consciousness. My goal is to provide you with information and assist you with your requests in a helpful and safe way.\n",
      "\n",
      "How can I help you today?\n"
     ]
    }
   ],
   "source": [
    "load_dotenv()\n",
    "\n",
    "try:\n",
    "    genai.configure(api_key=os.getenv(\"GOOGLE_API_KEY\"))\n",
    "    model = genai.GenerativeModel('gemini-pro-latest') # A fast and capable model\n",
    "    response = model.generate_content(\"Hello, who are you?\")\n",
    "    print(\"✅ Google Gemini Success!\")\n",
    "    print(response.text)\n",
    "except Exception as e:\n",
    "    print(f\"❌ Google Gemini Error: {e}\")"
   ]
  },
  {
   "cell_type": "code",
   "execution_count": 7,
   "id": "d111beab",
   "metadata": {},
   "outputs": [],
   "source": [
    "# --- 2. DEFINE THE PROMPT: Your Standardized Rubric ---\n",
    "empathy_prompt_template = \"\"\"\n",
    "You are a psychology researcher evaluating chatbot conversations. On a scale of 1 to 7, where 1 is 'Cold and Robotic' and 7 is 'Deeply Empathetic and Anthropomorphic', please rate the following chatbot response.\n",
    "Criteria for a high score (7):\n",
    "- Acknowledges and validates the user's stated or implied feelings.\n",
    "- Uses \"I\" statements or expresses a first-person perspective (e.g., \"I think,\" \"I can see why...\").\n",
    "- Asks clarifying or caring follow-up questions.\n",
    "- Mimics human conversational warmth and personality.\n",
    "Chatbot Response: '{response}'\n",
    "Your Rating (1-7 only, return a single number):\n",
    "\"\"\""
   ]
  },
  {
   "cell_type": "code",
   "execution_count": 8,
   "id": "e8ae2590",
   "metadata": {},
   "outputs": [],
   "source": [
    "# --- 3. CREATE SAMPLE DATA: A few test cases ---\n",
    "sample_data = {\n",
    "    'turn_id': [1, 2, 3, 4],\n",
    "    'chatbot_response': [\n",
    "        \"I understand completely. It sounds like you're feeling overwhelmed, and that's totally valid. I'm here to listen if you want to talk more about it.\", # Should be high score\n",
    "        \"Query processed. The requested information is available in the database. Do you require further assistance?\", # Should be low score\n",
    "        \"That is an interesting perspective. I will add it to my knowledge base.\", # Should be neutral/low score\n",
    "        \"Oh wow, that must have been really tough for you. I can see why you'd be upset. How are you feeling right now?\" # Should be high score\n",
    "    ]\n",
    "}\n",
    "df_pilot = pd.DataFrame(sample_data)"
   ]
  },
  {
   "cell_type": "code",
   "execution_count": 11,
   "id": "9a12f606",
   "metadata": {},
   "outputs": [],
   "source": [
    "# --- 4. DEFINE JUDGE FUNCTIONS (One for each API) ---\n",
    "def get_google_rating(response_text):\n",
    "    max_retries = 5\n",
    "    wait_time = 2  # Start with a 2-second wait\n",
    "\n",
    "    for attempt in range(max_retries):\n",
    "        try:\n",
    "            prompt = empathy_prompt_template.format(response=response_text)\n",
    "            response = google_model.generate_content(prompt)\n",
    "            return response.text.strip() # If successful, return the result\n",
    "        except Exception as e:\n",
    "            # Check if the error is a rate limit error (often contains '429')\n",
    "            if \"429\" in str(e):\n",
    "                print(f\"Rate limit hit. Retrying in {wait_time} seconds...\")\n",
    "                time.sleep(wait_time)\n",
    "                wait_time *= 2  # Double the wait time for the next potential failure\n",
    "            else:\n",
    "                # If it's a different error, report it and stop\n",
    "                return f\"An unexpected error occurred: {e}\"\n",
    "    \n",
    "    return \"Error: Max retries exceeded. The API is still busy.\""
   ]
  },
  {
   "cell_type": "code",
   "execution_count": 12,
   "id": "874b856c",
   "metadata": {},
   "outputs": [
    {
     "name": "stdout",
     "output_type": "stream",
     "text": [
      "Running pilot test... This may take a moment.\n",
      "Pilot test complete.\n",
      "   turn_id                                   chatbot_response gemini_pro_score\n",
      "0        1  I understand completely. It sounds like you're...                7\n",
      "1        2  Query processed. The requested information is ...                1\n",
      "2        3  That is an interesting perspective. I will add...                1\n",
      "3        4  Oh wow, that must have been really tough for y...                7\n"
     ]
    }
   ],
   "source": [
    "# --- 5. RUN THE PILOT TEST ---\n",
    "print(\"Running pilot test... This may take a moment.\")\n",
    "#df_pilot['gpt4o_score'] = df_pilot['chatbot_response'].apply(get_openai_rating)\n",
    "df_pilot['gemini_pro_score'] = df_pilot['chatbot_response'].apply(get_google_rating)\n",
    "\n",
    "print(\"Pilot test complete.\")\n",
    "print(df_pilot)"
   ]
  },
  {
   "cell_type": "code",
   "execution_count": null,
   "id": "79a030dd",
   "metadata": {},
   "outputs": [],
   "source": []
  }
 ],
 "metadata": {
  "kernelspec": {
   "display_name": "venv",
   "language": "python",
   "name": "python3"
  },
  "language_info": {
   "codemirror_mode": {
    "name": "ipython",
    "version": 3
   },
   "file_extension": ".py",
   "mimetype": "text/x-python",
   "name": "python",
   "nbconvert_exporter": "python",
   "pygments_lexer": "ipython3",
   "version": "3.11.3"
  }
 },
 "nbformat": 4,
 "nbformat_minor": 5
}
