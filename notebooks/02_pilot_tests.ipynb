{
 "cells": [
  {
   "cell_type": "markdown",
   "id": "f0d55914",
   "metadata": {},
   "source": [
    "# Testing and validating your judge prompts "
   ]
  },
  {
   "cell_type": "markdown",
   "id": "034c0bad",
   "metadata": {},
   "source": []
  }
 ],
 "metadata": {
  "kernelspec": {
   "display_name": "3.11",
   "language": "python",
   "name": "python3"
  },
  "language_info": {
   "name": "python",
   "version": "3.11.3"
  }
 },
 "nbformat": 4,
 "nbformat_minor": 5
}
