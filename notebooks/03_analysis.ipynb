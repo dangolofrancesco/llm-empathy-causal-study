{
 "cells": [
  {
   "cell_type": "markdown",
   "id": "fbe1d38e",
   "metadata": {},
   "source": [
    "# Final statistical analysis, ATE, and visualizations "
   ]
  },
  {
   "cell_type": "markdown",
   "id": "c46091cb",
   "metadata": {},
   "source": []
  }
 ],
 "metadata": {
  "kernelspec": {
   "display_name": "3.11",
   "language": "python",
   "name": "python3"
  },
  "language_info": {
   "name": "python",
   "version": "3.11.3"
  }
 },
 "nbformat": 4,
 "nbformat_minor": 5
}
